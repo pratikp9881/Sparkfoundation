{
 "cells": [
  {
   "cell_type": "markdown",
   "id": "75e9348f",
   "metadata": {},
   "source": [
    "# Simple Linear Regression\n",
    "by python and sckitlearn "
   ]
  },
  {
   "cell_type": "code",
   "execution_count": 118,
   "id": "a729e8a1",
   "metadata": {},
   "outputs": [],
   "source": [
    "import numpy as np\n",
    "import pandas as pd\n",
    "import matplotlib.pyplot as plt"
   ]
  },
  {
   "cell_type": "code",
   "execution_count": 119,
   "id": "c846d463",
   "metadata": {},
   "outputs": [
    {
     "data": {
      "text/html": [
       "<div>\n",
       "<style scoped>\n",
       "    .dataframe tbody tr th:only-of-type {\n",
       "        vertical-align: middle;\n",
       "    }\n",
       "\n",
       "    .dataframe tbody tr th {\n",
       "        vertical-align: top;\n",
       "    }\n",
       "\n",
       "    .dataframe thead th {\n",
       "        text-align: right;\n",
       "    }\n",
       "</style>\n",
       "<table border=\"1\" class=\"dataframe\">\n",
       "  <thead>\n",
       "    <tr style=\"text-align: right;\">\n",
       "      <th></th>\n",
       "      <th>Hours</th>\n",
       "      <th>Scores</th>\n",
       "    </tr>\n",
       "  </thead>\n",
       "  <tbody>\n",
       "    <tr>\n",
       "      <th>0</th>\n",
       "      <td>2.5</td>\n",
       "      <td>21</td>\n",
       "    </tr>\n",
       "    <tr>\n",
       "      <th>1</th>\n",
       "      <td>5.1</td>\n",
       "      <td>47</td>\n",
       "    </tr>\n",
       "    <tr>\n",
       "      <th>2</th>\n",
       "      <td>3.2</td>\n",
       "      <td>27</td>\n",
       "    </tr>\n",
       "    <tr>\n",
       "      <th>3</th>\n",
       "      <td>8.5</td>\n",
       "      <td>75</td>\n",
       "    </tr>\n",
       "    <tr>\n",
       "      <th>4</th>\n",
       "      <td>3.5</td>\n",
       "      <td>30</td>\n",
       "    </tr>\n",
       "    <tr>\n",
       "      <th>5</th>\n",
       "      <td>1.5</td>\n",
       "      <td>20</td>\n",
       "    </tr>\n",
       "    <tr>\n",
       "      <th>6</th>\n",
       "      <td>9.2</td>\n",
       "      <td>88</td>\n",
       "    </tr>\n",
       "    <tr>\n",
       "      <th>7</th>\n",
       "      <td>5.5</td>\n",
       "      <td>60</td>\n",
       "    </tr>\n",
       "    <tr>\n",
       "      <th>8</th>\n",
       "      <td>8.3</td>\n",
       "      <td>81</td>\n",
       "    </tr>\n",
       "    <tr>\n",
       "      <th>9</th>\n",
       "      <td>2.7</td>\n",
       "      <td>25</td>\n",
       "    </tr>\n",
       "  </tbody>\n",
       "</table>\n",
       "</div>"
      ],
      "text/plain": [
       "   Hours  Scores\n",
       "0    2.5      21\n",
       "1    5.1      47\n",
       "2    3.2      27\n",
       "3    8.5      75\n",
       "4    3.5      30\n",
       "5    1.5      20\n",
       "6    9.2      88\n",
       "7    5.5      60\n",
       "8    8.3      81\n",
       "9    2.7      25"
      ]
     },
     "execution_count": 119,
     "metadata": {},
     "output_type": "execute_result"
    }
   ],
   "source": [
    "#importing or loading the dataset about the no.of hours and percentange\n",
    "df=pd.read_csv(r\"https://raw.githubusercontent.com/AdiPersonalWorks/Random/master/student_scores%20-%20student_scores.csv\")\n",
    "df.head(10)"
   ]
  },
  {
   "cell_type": "code",
   "execution_count": 120,
   "id": "8360e8a6",
   "metadata": {},
   "outputs": [],
   "source": [
    "#splitting for main and target variables \n",
    "df_main=df.iloc[:,:-1].values\n",
    "df_target=df.iloc[:,1].values"
   ]
  },
  {
   "cell_type": "code",
   "execution_count": 121,
   "id": "c7173d59",
   "metadata": {},
   "outputs": [
    {
     "data": {
      "image/png": "[encoded data removed]",
      "text/plain": [
       "<Figure size 360x360 with 1 Axes>"
      ]
     },
     "metadata": {
      "needs_background": "light"
     },
     "output_type": "display_data"
    }
   ],
   "source": [
    "#plotting the relationship\n",
    "plt.figure(figsize=(5,5))\n",
    "plt.scatter(df_main,df_target)\n",
    "plt.title(\"Hours vs marks\")\n",
    "plt.xlabel(\"number of hours\")\n",
    "plt.ylabel(\"percentage gain\")\n",
    "plt.show()"
   ]
  },
  {
   "cell_type": "markdown",
   "id": "e936cdfe",
   "metadata": {},
   "source": [
    "# model training"
   ]
  },
  {
   "cell_type": "code",
   "execution_count": 136,
   "id": "dd066dc2",
   "metadata": {},
   "outputs": [],
   "source": [
    "#training based on linear regression algorithm \n",
    "from sklearn.linear_model import LinearRegression"
   ]
  },
  {
   "cell_type": "code",
   "execution_count": 137,
   "id": "db3a9050",
   "metadata": {},
   "outputs": [],
   "source": [
    "#need to split the data into train and test for better model building \n",
    "from sklearn.model_selection import train_test_split"
   ]
  },
  {
   "cell_type": "code",
   "execution_count": 144,
   "id": "c4b2626a",
   "metadata": {},
   "outputs": [],
   "source": [
    "x_train,x_test,y_train,y_test=train_test_split(df_main,df_target,test_size=0.2,random_state=51)"
   ]
  },
  {
   "cell_type": "code",
   "execution_count": 145,
   "id": "fbdadc49",
   "metadata": {},
   "outputs": [],
   "source": [
    "model=LinearRegression()"
   ]
  },
  {
   "cell_type": "code",
   "execution_count": 146,
   "id": "70a83d9b",
   "metadata": {},
   "outputs": [
    {
     "data": {
      "text/plain": [
       "LinearRegression()"
      ]
     },
     "execution_count": 146,
     "metadata": {},
     "output_type": "execute_result"
    }
   ],
   "source": [
    "model.fit(x_train,y_train)"
   ]
  },
  {
   "cell_type": "code",
   "execution_count": 147,
   "id": "c5c69c5f",
   "metadata": {},
   "outputs": [
    {
     "data": {
      "text/plain": [
       "array([55.30582657, 76.34736893, 68.69589898, 82.08597139, 28.52568176])"
      ]
     },
     "execution_count": 147,
     "metadata": {},
     "output_type": "execute_result"
    }
   ],
   "source": [
    "# predicted data for the given set\n",
    "tested=model.predict(x_test)\n",
    "tested"
   ]
  },
  {
   "cell_type": "code",
   "execution_count": 148,
   "id": "63a63aa4",
   "metadata": {},
   "outputs": [
    {
     "data": {
      "text/plain": [
       "array([60, 85, 76, 81, 30], dtype=int64)"
      ]
     },
     "execution_count": 148,
     "metadata": {},
     "output_type": "execute_result"
    }
   ],
   "source": [
    "# pre defined target data \n",
    "y_test"
   ]
  },
  {
   "cell_type": "code",
   "execution_count": 149,
   "id": "5c0a5e71",
   "metadata": {},
   "outputs": [],
   "source": [
    "#line equation for simple linear regression with only 1 dependent feature is y=mx+c where c  is intercept\n",
    "# and m is cofficent or slope \n",
    "line_equ=model.coef_*df_main+ model.intercept_"
   ]
  },
  {
   "cell_type": "code",
   "execution_count": 150,
   "id": "423017a5",
   "metadata": {},
   "outputs": [
    {
     "data": {
      "image/png": "[encoded data removed]",
      "text/plain": [
       "<Figure size 360x360 with 1 Axes>"
      ]
     },
     "metadata": {
      "needs_background": "light"
     },
     "output_type": "display_data"
    }
   ],
   "source": [
    "#plotting the graph for better understanding the way things are working the line is the best fit line \n",
    "plt.figure(figsize=(5,5))\n",
    "plt.scatter(df_main,df_target) # the blue points in graph came from these line\n",
    "plt.plot(df_main,line_equ)     # plotting the line is here \n",
    "plt.xlabel(\"Number of Hour\")\n",
    "plt.title(\"Hours vs Percentage\")\n",
    "plt.ylabel(\"percentage or Score\")\n",
    "plt.show()"
   ]
  },
  {
   "cell_type": "markdown",
   "id": "624b80cc",
   "metadata": {},
   "source": [
    "# Model evalution using r2score and mean absolute error"
   ]
  },
  {
   "cell_type": "code",
   "execution_count": 151,
   "id": "a0af45f4",
   "metadata": {},
   "outputs": [],
   "source": [
    "from sklearn.metrics import r2_score,mean_absolute_error"
   ]
  },
  {
   "cell_type": "code",
   "execution_count": 152,
   "id": "a9411f59",
   "metadata": {},
   "outputs": [],
   "source": [
    "score=r2_score(y_test,tested)"
   ]
  },
  {
   "cell_type": "code",
   "execution_count": 153,
   "id": "f1ce06e5",
   "metadata": {},
   "outputs": [
    {
     "data": {
      "text/plain": [
       "0.9238518102278777"
      ]
     },
     "execution_count": 153,
     "metadata": {},
     "output_type": "execute_result"
    }
   ],
   "source": [
    "score"
   ]
  },
  {
   "cell_type": "code",
   "execution_count": 154,
   "id": "8a7e59bd",
   "metadata": {},
   "outputs": [],
   "source": [
    "error=mean_absolute_error(y_test,tested)"
   ]
  },
  {
   "cell_type": "code",
   "execution_count": 155,
   "id": "a6b206d8",
   "metadata": {},
   "outputs": [
    {
     "data": {
      "text/plain": [
       "4.6422390298182545"
      ]
     },
     "execution_count": 155,
     "metadata": {},
     "output_type": "execute_result"
    }
   ],
   "source": [
    "error"
   ]
  },
  {
   "cell_type": "code",
   "execution_count": null,
   "id": "6e756bed",
   "metadata": {},
   "outputs": [],
   "source": []
  }
 ],
 "metadata": {
  "kernelspec": {
   "display_name": "Python 3",
   "language": "python",
   "name": "python3"
  },
  "language_info": {
   "codemirror_mode": {
    "name": "ipython",
    "version": 3
   },
   "file_extension": ".py",
   "mimetype": "text/x-python",
   "name": "python",
   "nbconvert_exporter": "python",
   "pygments_lexer": "ipython3",
   "version": "3.8.8"
  }
 },
 "nbformat": 4,
 "nbformat_minor": 5
}
